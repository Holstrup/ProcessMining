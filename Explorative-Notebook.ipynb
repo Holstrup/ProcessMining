{
 "cells": [
  {
   "cell_type": "code",
   "execution_count": 22,
   "metadata": {},
   "outputs": [],
   "source": [
    "import pandas as pd\n",
    "import tensorflow_hub as hub\n",
    "import numpy as np\n",
    "import json \n",
    "from tensorflow.keras.models import Sequential\n",
    "from tensorflow.keras.layers import Dense, BatchNormalization, Dropout\n",
    "from sklearn.preprocessing import MultiLabelBinarizer\n",
    "import numpy as np"
   ]
  },
  {
   "cell_type": "code",
   "execution_count": 23,
   "metadata": {},
   "outputs": [],
   "source": [
    "csv_file_path = \"Data/Kaggle/chatroom.csv\"\n",
    "chunksize = 10**2"
   ]
  },
  {
   "cell_type": "code",
   "execution_count": 24,
   "metadata": {},
   "outputs": [],
   "source": [
    "module_url = \"https://tfhub.dev/google/universal-sentence-encoder-large/5\"\n",
    "embed = hub.KerasLayer(module_url)"
   ]
  },
  {
   "cell_type": "code",
   "execution_count": 25,
   "metadata": {},
   "outputs": [
    {
     "name": "stdout",
     "output_type": "stream",
     "text": [
      "2199\n"
     ]
    }
   ],
   "source": [
    "msdialog_filepath = \"data/MSDialog/Intent/MSDialog-Intent.json\"\n",
    "with open(msdialog_filepath) as f:\n",
    "    data = json.load(f)\n",
    "\n",
    "print(len(data))\n",
    "message_list = []\n",
    "labels = []\n",
    "for j, thread in enumerate(data.keys()):\n",
    "    messages = data[thread][\"utterances\"]\n",
    "    for i, message in enumerate(messages):\n",
    "        message_list.append(message[\"utterance\"])\n",
    "        labels.append(message[\"tags\"].split(\" \"))\n",
    "    if j == 300:\n",
    "        break"
   ]
  },
  {
   "cell_type": "code",
   "execution_count": 26,
   "metadata": {},
   "outputs": [
    {
     "name": "stdout",
     "output_type": "stream",
     "text": [
      "Number of messages: 1390\n"
     ]
    }
   ],
   "source": [
    "print(\"Number of messages: {}\".format(len(message_list)))"
   ]
  },
  {
   "cell_type": "code",
   "execution_count": 64,
   "metadata": {},
   "outputs": [],
   "source": [
    "one_hot = MultiLabelBinarizer()\n",
    "multi_hot_labels = one_hot.fit_transform(labels)"
   ]
  },
  {
   "cell_type": "code",
   "execution_count": 28,
   "metadata": {},
   "outputs": [
    {
     "name": "stdout",
     "output_type": "stream",
     "text": [
      "Dimensionality: 512\n",
      "Number of messages: 1390\n",
      "13 Unique Classes\n"
     ]
    }
   ],
   "source": [
    "message_embeddings = np.array(embed.call(message_list))\n",
    "N, D = np.shape(message_embeddings)\n",
    "print(\"Dimensionality: {}\\nNumber of messages: {}\".format(D,N))\n",
    "_, L = multi_hot_labels.shape\n",
    "print(\"{} Unique Classes\".format(L))"
   ]
  },
  {
   "cell_type": "code",
   "execution_count": 29,
   "metadata": {},
   "outputs": [],
   "source": [
    "# Neural network\n",
    "model = Sequential()\n",
    "model.add(Dense(256, input_dim=D, activation=\"relu\"))\n",
    "model.add(BatchNormalization())\n",
    "model.add(Dropout(0.5))\n",
    "\n",
    "#model.add(Dense(128, activation=\"relu\"))\n",
    "#model.add(Dense(64, activation=\"relu\"))\n",
    "#model.add(Dense(32, activation=\"relu\"))\n",
    "\n",
    "model.add(Dense(16, activation=\"relu\"))\n",
    "model.add(BatchNormalization())\n",
    "model.add(Dense(L, activation=\"softmax\"))"
   ]
  },
  {
   "cell_type": "code",
   "execution_count": 30,
   "metadata": {},
   "outputs": [],
   "source": [
    "model.compile(loss='mean_squared_error', optimizer='adam', metrics=['accuracy'])"
   ]
  },
  {
   "cell_type": "code",
   "execution_count": 33,
   "metadata": {},
   "outputs": [],
   "source": [
    "from sklearn.model_selection import train_test_split\n",
    "X_train, X_test, y_train, y_test = train_test_split(message_embeddings, \n",
    "                                                    multi_hot_labels, test_size=0.30, random_state=42)"
   ]
  },
  {
   "cell_type": "code",
   "execution_count": 35,
   "metadata": {
    "scrolled": false
   },
   "outputs": [
    {
     "name": "stdout",
     "output_type": "stream",
     "text": [
      "Train on 973 samples, validate on 417 samples\n",
      "Epoch 1/100\n",
      "973/973 [==============================] - 0s 59us/sample - loss: 0.0515 - accuracy: 0.6608 - val_loss: 0.0815 - val_accuracy: 0.4484\n",
      "Epoch 2/100\n",
      "973/973 [==============================] - 0s 60us/sample - loss: 0.0513 - accuracy: 0.6351 - val_loss: 0.0808 - val_accuracy: 0.4388\n",
      "Epoch 3/100\n",
      "973/973 [==============================] - 0s 53us/sample - loss: 0.0515 - accuracy: 0.6280 - val_loss: 0.0802 - val_accuracy: 0.4604\n",
      "Epoch 4/100\n",
      "973/973 [==============================] - 0s 59us/sample - loss: 0.0512 - accuracy: 0.6290 - val_loss: 0.0801 - val_accuracy: 0.4532\n",
      "Epoch 5/100\n",
      "973/973 [==============================] - 0s 50us/sample - loss: 0.0511 - accuracy: 0.6341 - val_loss: 0.0790 - val_accuracy: 0.4365\n",
      "Epoch 6/100\n",
      "973/973 [==============================] - 0s 49us/sample - loss: 0.0510 - accuracy: 0.6351 - val_loss: 0.0777 - val_accuracy: 0.4556\n",
      "Epoch 7/100\n",
      "973/973 [==============================] - 0s 50us/sample - loss: 0.0508 - accuracy: 0.6372 - val_loss: 0.0776 - val_accuracy: 0.4508\n",
      "Epoch 8/100\n",
      "973/973 [==============================] - 0s 50us/sample - loss: 0.0513 - accuracy: 0.6434 - val_loss: 0.0779 - val_accuracy: 0.4412\n",
      "Epoch 9/100\n",
      "973/973 [==============================] - 0s 57us/sample - loss: 0.0504 - accuracy: 0.6331 - val_loss: 0.0772 - val_accuracy: 0.4412\n",
      "Epoch 10/100\n",
      "973/973 [==============================] - 0s 54us/sample - loss: 0.0502 - accuracy: 0.6310 - val_loss: 0.0766 - val_accuracy: 0.4388\n",
      "Epoch 11/100\n",
      "973/973 [==============================] - 0s 59us/sample - loss: 0.0501 - accuracy: 0.6321 - val_loss: 0.0768 - val_accuracy: 0.4365\n",
      "Epoch 12/100\n",
      "973/973 [==============================] - 0s 50us/sample - loss: 0.0503 - accuracy: 0.6321 - val_loss: 0.0769 - val_accuracy: 0.4269\n",
      "Epoch 13/100\n",
      "973/973 [==============================] - 0s 49us/sample - loss: 0.0502 - accuracy: 0.6557 - val_loss: 0.0771 - val_accuracy: 0.4412\n",
      "Epoch 14/100\n",
      "973/973 [==============================] - 0s 51us/sample - loss: 0.0505 - accuracy: 0.6598 - val_loss: 0.0763 - val_accuracy: 0.4221\n",
      "Epoch 15/100\n",
      "973/973 [==============================] - 0s 50us/sample - loss: 0.0499 - accuracy: 0.6321 - val_loss: 0.0761 - val_accuracy: 0.4269\n",
      "Epoch 16/100\n",
      "973/973 [==============================] - 0s 51us/sample - loss: 0.0499 - accuracy: 0.6434 - val_loss: 0.0759 - val_accuracy: 0.4221\n",
      "Epoch 17/100\n",
      "973/973 [==============================] - 0s 54us/sample - loss: 0.0503 - accuracy: 0.6341 - val_loss: 0.0755 - val_accuracy: 0.4269\n",
      "Epoch 18/100\n",
      "973/973 [==============================] - 0s 50us/sample - loss: 0.0501 - accuracy: 0.6208 - val_loss: 0.0759 - val_accuracy: 0.4197\n",
      "Epoch 19/100\n",
      "973/973 [==============================] - 0s 53us/sample - loss: 0.0494 - accuracy: 0.6372 - val_loss: 0.0761 - val_accuracy: 0.4341\n",
      "Epoch 20/100\n",
      "973/973 [==============================] - 0s 52us/sample - loss: 0.0495 - accuracy: 0.6650 - val_loss: 0.0760 - val_accuracy: 0.4269\n",
      "Epoch 21/100\n",
      "973/973 [==============================] - 0s 49us/sample - loss: 0.0496 - accuracy: 0.6547 - val_loss: 0.0756 - val_accuracy: 0.4245\n",
      "Epoch 22/100\n",
      "973/973 [==============================] - 0s 50us/sample - loss: 0.0496 - accuracy: 0.6454 - val_loss: 0.0757 - val_accuracy: 0.4269\n",
      "Epoch 23/100\n",
      "973/973 [==============================] - 0s 57us/sample - loss: 0.0494 - accuracy: 0.6372 - val_loss: 0.0753 - val_accuracy: 0.4197\n",
      "Epoch 24/100\n",
      "973/973 [==============================] - 0s 60us/sample - loss: 0.0492 - accuracy: 0.6485 - val_loss: 0.0748 - val_accuracy: 0.4221\n",
      "Epoch 25/100\n",
      "973/973 [==============================] - 0s 52us/sample - loss: 0.0494 - accuracy: 0.6259 - val_loss: 0.0748 - val_accuracy: 0.4221\n",
      "Epoch 26/100\n",
      "973/973 [==============================] - 0s 56us/sample - loss: 0.0491 - accuracy: 0.6485 - val_loss: 0.0751 - val_accuracy: 0.4269\n",
      "Epoch 27/100\n",
      "973/973 [==============================] - 0s 55us/sample - loss: 0.0492 - accuracy: 0.6536 - val_loss: 0.0754 - val_accuracy: 0.4365\n",
      "Epoch 28/100\n",
      "973/973 [==============================] - 0s 55us/sample - loss: 0.0494 - accuracy: 0.6403 - val_loss: 0.0753 - val_accuracy: 0.4245\n",
      "Epoch 29/100\n",
      "973/973 [==============================] - 0s 51us/sample - loss: 0.0492 - accuracy: 0.6362 - val_loss: 0.0751 - val_accuracy: 0.4149\n",
      "Epoch 30/100\n",
      "973/973 [==============================] - 0s 51us/sample - loss: 0.0491 - accuracy: 0.6300 - val_loss: 0.0749 - val_accuracy: 0.4149\n",
      "Epoch 31/100\n",
      "973/973 [==============================] - 0s 49us/sample - loss: 0.0490 - accuracy: 0.6506 - val_loss: 0.0750 - val_accuracy: 0.4173\n",
      "Epoch 32/100\n",
      "973/973 [==============================] - 0s 49us/sample - loss: 0.0491 - accuracy: 0.6495 - val_loss: 0.0751 - val_accuracy: 0.4197\n",
      "Epoch 33/100\n",
      "973/973 [==============================] - 0s 63us/sample - loss: 0.0489 - accuracy: 0.6382 - val_loss: 0.0751 - val_accuracy: 0.4173\n",
      "Epoch 34/100\n",
      "973/973 [==============================] - 0s 52us/sample - loss: 0.0484 - accuracy: 0.6403 - val_loss: 0.0758 - val_accuracy: 0.4149\n",
      "Epoch 35/100\n",
      "973/973 [==============================] - 0s 59us/sample - loss: 0.0486 - accuracy: 0.6321 - val_loss: 0.0764 - val_accuracy: 0.4077\n",
      "Epoch 36/100\n",
      "973/973 [==============================] - 0s 70us/sample - loss: 0.0488 - accuracy: 0.6763 - val_loss: 0.0763 - val_accuracy: 0.4245\n",
      "Epoch 37/100\n",
      "973/973 [==============================] - 0s 68us/sample - loss: 0.0486 - accuracy: 0.6475 - val_loss: 0.0762 - val_accuracy: 0.4221\n",
      "Epoch 38/100\n",
      "973/973 [==============================] - 0s 65us/sample - loss: 0.0485 - accuracy: 0.6372 - val_loss: 0.0764 - val_accuracy: 0.4149\n",
      "Epoch 39/100\n",
      "973/973 [==============================] - 0s 59us/sample - loss: 0.0487 - accuracy: 0.6434 - val_loss: 0.0762 - val_accuracy: 0.4197\n",
      "Epoch 40/100\n",
      "973/973 [==============================] - 0s 60us/sample - loss: 0.0484 - accuracy: 0.6536 - val_loss: 0.0758 - val_accuracy: 0.4197\n",
      "Epoch 41/100\n",
      "973/973 [==============================] - 0s 52us/sample - loss: 0.0482 - accuracy: 0.6598 - val_loss: 0.0756 - val_accuracy: 0.4293\n",
      "Epoch 42/100\n",
      "973/973 [==============================] - 0s 53us/sample - loss: 0.0482 - accuracy: 0.6146 - val_loss: 0.0759 - val_accuracy: 0.4365\n",
      "Epoch 43/100\n",
      "973/973 [==============================] - 0s 56us/sample - loss: 0.0481 - accuracy: 0.6650 - val_loss: 0.0759 - val_accuracy: 0.4317\n",
      "Epoch 44/100\n",
      "973/973 [==============================] - 0s 61us/sample - loss: 0.0486 - accuracy: 0.6362 - val_loss: 0.0758 - val_accuracy: 0.4221\n",
      "Epoch 45/100\n",
      "973/973 [==============================] - 0s 53us/sample - loss: 0.0481 - accuracy: 0.6660 - val_loss: 0.0764 - val_accuracy: 0.4365\n",
      "Epoch 46/100\n",
      "973/973 [==============================] - 0s 58us/sample - loss: 0.0482 - accuracy: 0.6475 - val_loss: 0.0761 - val_accuracy: 0.4125\n",
      "Epoch 47/100\n",
      "973/973 [==============================] - 0s 49us/sample - loss: 0.0483 - accuracy: 0.6516 - val_loss: 0.0756 - val_accuracy: 0.4317\n",
      "Epoch 48/100\n",
      "973/973 [==============================] - 0s 50us/sample - loss: 0.0483 - accuracy: 0.6793 - val_loss: 0.0752 - val_accuracy: 0.4412\n",
      "Epoch 49/100\n",
      "973/973 [==============================] - 0s 68us/sample - loss: 0.0479 - accuracy: 0.6619 - val_loss: 0.0751 - val_accuracy: 0.4245\n",
      "Epoch 50/100\n",
      "973/973 [==============================] - 0s 57us/sample - loss: 0.0484 - accuracy: 0.6280 - val_loss: 0.0754 - val_accuracy: 0.4125\n",
      "Epoch 51/100\n",
      "973/973 [==============================] - 0s 60us/sample - loss: 0.0479 - accuracy: 0.6341 - val_loss: 0.0757 - val_accuracy: 0.4293\n",
      "Epoch 52/100\n",
      "973/973 [==============================] - 0s 56us/sample - loss: 0.0481 - accuracy: 0.6423 - val_loss: 0.0757 - val_accuracy: 0.4173\n",
      "Epoch 53/100\n",
      "973/973 [==============================] - 0s 58us/sample - loss: 0.0483 - accuracy: 0.6506 - val_loss: 0.0759 - val_accuracy: 0.4053\n",
      "Epoch 54/100\n",
      "973/973 [==============================] - 0s 59us/sample - loss: 0.0477 - accuracy: 0.6567 - val_loss: 0.0758 - val_accuracy: 0.4029\n",
      "Epoch 55/100\n",
      "973/973 [==============================] - 0s 51us/sample - loss: 0.0482 - accuracy: 0.6444 - val_loss: 0.0761 - val_accuracy: 0.4053\n",
      "Epoch 56/100\n",
      "973/973 [==============================] - 0s 50us/sample - loss: 0.0478 - accuracy: 0.6423 - val_loss: 0.0765 - val_accuracy: 0.4221\n",
      "Epoch 57/100\n",
      "973/973 [==============================] - 0s 51us/sample - loss: 0.0477 - accuracy: 0.6547 - val_loss: 0.0765 - val_accuracy: 0.4101\n",
      "Epoch 58/100\n",
      "973/973 [==============================] - 0s 49us/sample - loss: 0.0478 - accuracy: 0.6393 - val_loss: 0.0764 - val_accuracy: 0.4077\n",
      "Epoch 59/100\n",
      "973/973 [==============================] - 0s 50us/sample - loss: 0.0480 - accuracy: 0.6444 - val_loss: 0.0760 - val_accuracy: 0.4125\n",
      "Epoch 60/100\n",
      "973/973 [==============================] - 0s 55us/sample - loss: 0.0479 - accuracy: 0.6351 - val_loss: 0.0759 - val_accuracy: 0.4149\n",
      "Epoch 61/100\n",
      "973/973 [==============================] - 0s 53us/sample - loss: 0.0481 - accuracy: 0.6608 - val_loss: 0.0757 - val_accuracy: 0.4293\n",
      "Epoch 62/100\n",
      "973/973 [==============================] - 0s 53us/sample - loss: 0.0480 - accuracy: 0.6372 - val_loss: 0.0755 - val_accuracy: 0.4173\n",
      "Epoch 63/100\n",
      "973/973 [==============================] - 0s 49us/sample - loss: 0.0474 - accuracy: 0.6444 - val_loss: 0.0753 - val_accuracy: 0.4317\n",
      "Epoch 64/100\n",
      "973/973 [==============================] - 0s 49us/sample - loss: 0.0476 - accuracy: 0.6773 - val_loss: 0.0753 - val_accuracy: 0.4197\n",
      "Epoch 65/100\n",
      "973/973 [==============================] - 0s 48us/sample - loss: 0.0473 - accuracy: 0.6557 - val_loss: 0.0757 - val_accuracy: 0.4269\n",
      "Epoch 66/100\n",
      "973/973 [==============================] - 0s 58us/sample - loss: 0.0476 - accuracy: 0.6485 - val_loss: 0.0760 - val_accuracy: 0.4197\n",
      "Epoch 67/100\n",
      "973/973 [==============================] - 0s 55us/sample - loss: 0.0474 - accuracy: 0.6321 - val_loss: 0.0762 - val_accuracy: 0.4245\n",
      "Epoch 68/100\n",
      "973/973 [==============================] - 0s 50us/sample - loss: 0.0473 - accuracy: 0.6547 - val_loss: 0.0761 - val_accuracy: 0.4269\n",
      "Epoch 69/100\n",
      "973/973 [==============================] - 0s 57us/sample - loss: 0.0472 - accuracy: 0.6588 - val_loss: 0.0760 - val_accuracy: 0.4245\n",
      "Epoch 70/100\n",
      "973/973 [==============================] - 0s 54us/sample - loss: 0.0475 - accuracy: 0.6773 - val_loss: 0.0757 - val_accuracy: 0.4197\n",
      "Epoch 71/100\n",
      "973/973 [==============================] - 0s 50us/sample - loss: 0.0470 - accuracy: 0.6567 - val_loss: 0.0757 - val_accuracy: 0.4149\n",
      "Epoch 72/100\n",
      "973/973 [==============================] - 0s 57us/sample - loss: 0.0470 - accuracy: 0.6351 - val_loss: 0.0751 - val_accuracy: 0.4269\n",
      "Epoch 73/100\n",
      "973/973 [==============================] - 0s 50us/sample - loss: 0.0473 - accuracy: 0.6526 - val_loss: 0.0749 - val_accuracy: 0.4221\n",
      "Epoch 74/100\n",
      "973/973 [==============================] - 0s 49us/sample - loss: 0.0470 - accuracy: 0.6691 - val_loss: 0.0752 - val_accuracy: 0.4173\n",
      "Epoch 75/100\n",
      "973/973 [==============================] - 0s 54us/sample - loss: 0.0475 - accuracy: 0.6557 - val_loss: 0.0756 - val_accuracy: 0.4197\n",
      "Epoch 76/100\n",
      "973/973 [==============================] - 0s 50us/sample - loss: 0.0473 - accuracy: 0.6578 - val_loss: 0.0753 - val_accuracy: 0.4293\n",
      "Epoch 77/100\n",
      "973/973 [==============================] - 0s 50us/sample - loss: 0.0472 - accuracy: 0.6321 - val_loss: 0.0753 - val_accuracy: 0.4149\n",
      "Epoch 78/100\n",
      "973/973 [==============================] - 0s 50us/sample - loss: 0.0470 - accuracy: 0.6403 - val_loss: 0.0754 - val_accuracy: 0.4125\n",
      "Epoch 79/100\n",
      "973/973 [==============================] - 0s 57us/sample - loss: 0.0469 - accuracy: 0.6660 - val_loss: 0.0754 - val_accuracy: 0.4149\n",
      "Epoch 80/100\n",
      "973/973 [==============================] - 0s 55us/sample - loss: 0.0467 - accuracy: 0.6557 - val_loss: 0.0759 - val_accuracy: 0.4149\n",
      "Epoch 81/100\n",
      "973/973 [==============================] - 0s 58us/sample - loss: 0.0470 - accuracy: 0.6557 - val_loss: 0.0761 - val_accuracy: 0.4197\n",
      "Epoch 82/100\n",
      "973/973 [==============================] - 0s 50us/sample - loss: 0.0467 - accuracy: 0.6547 - val_loss: 0.0758 - val_accuracy: 0.4221\n",
      "Epoch 83/100\n",
      "973/973 [==============================] - 0s 57us/sample - loss: 0.0468 - accuracy: 0.6650 - val_loss: 0.0757 - val_accuracy: 0.4125\n",
      "Epoch 84/100\n",
      "973/973 [==============================] - 0s 55us/sample - loss: 0.0463 - accuracy: 0.6393 - val_loss: 0.0759 - val_accuracy: 0.4125\n",
      "Epoch 85/100\n",
      "973/973 [==============================] - 0s 57us/sample - loss: 0.0465 - accuracy: 0.6711 - val_loss: 0.0763 - val_accuracy: 0.4125\n",
      "Epoch 86/100\n",
      "973/973 [==============================] - 0s 52us/sample - loss: 0.0473 - accuracy: 0.6629 - val_loss: 0.0765 - val_accuracy: 0.4053\n",
      "Epoch 87/100\n",
      "973/973 [==============================] - 0s 53us/sample - loss: 0.0467 - accuracy: 0.6454 - val_loss: 0.0763 - val_accuracy: 0.4197\n",
      "Epoch 88/100\n",
      "973/973 [==============================] - 0s 67us/sample - loss: 0.0466 - accuracy: 0.6547 - val_loss: 0.0760 - val_accuracy: 0.4317\n",
      "Epoch 89/100\n",
      "973/973 [==============================] - 0s 64us/sample - loss: 0.0464 - accuracy: 0.6608 - val_loss: 0.0759 - val_accuracy: 0.4365\n",
      "Epoch 90/100\n",
      "973/973 [==============================] - 0s 62us/sample - loss: 0.0470 - accuracy: 0.6557 - val_loss: 0.0759 - val_accuracy: 0.4125\n",
      "Epoch 91/100\n",
      "973/973 [==============================] - 0s 65us/sample - loss: 0.0465 - accuracy: 0.6413 - val_loss: 0.0759 - val_accuracy: 0.4101\n",
      "Epoch 92/100\n",
      "973/973 [==============================] - 0s 63us/sample - loss: 0.0470 - accuracy: 0.6639 - val_loss: 0.0758 - val_accuracy: 0.4173\n",
      "Epoch 93/100\n",
      "973/973 [==============================] - 0s 64us/sample - loss: 0.0465 - accuracy: 0.6331 - val_loss: 0.0755 - val_accuracy: 0.4197\n",
      "Epoch 94/100\n",
      "973/973 [==============================] - 0s 64us/sample - loss: 0.0467 - accuracy: 0.6526 - val_loss: 0.0753 - val_accuracy: 0.4101\n",
      "Epoch 95/100\n",
      "973/973 [==============================] - 0s 65us/sample - loss: 0.0468 - accuracy: 0.6608 - val_loss: 0.0753 - val_accuracy: 0.4269\n",
      "Epoch 96/100\n",
      "973/973 [==============================] - 0s 59us/sample - loss: 0.0465 - accuracy: 0.6310 - val_loss: 0.0754 - val_accuracy: 0.4293\n",
      "Epoch 97/100\n",
      "973/973 [==============================] - 0s 60us/sample - loss: 0.0465 - accuracy: 0.6711 - val_loss: 0.0753 - val_accuracy: 0.4293\n",
      "Epoch 98/100\n",
      "973/973 [==============================] - 0s 61us/sample - loss: 0.0467 - accuracy: 0.6454 - val_loss: 0.0751 - val_accuracy: 0.4269\n",
      "Epoch 99/100\n",
      "973/973 [==============================] - 0s 71us/sample - loss: 0.0464 - accuracy: 0.6629 - val_loss: 0.0752 - val_accuracy: 0.4317\n",
      "Epoch 100/100\n",
      "973/973 [==============================] - 0s 61us/sample - loss: 0.0462 - accuracy: 0.6495 - val_loss: 0.0751 - val_accuracy: 0.4197\n"
     ]
    }
   ],
   "source": [
    "history = model.fit(X_train, y_train, epochs=100, batch_size=100, validation_data=(X_test,y_test))"
   ]
  },
  {
   "cell_type": "code",
   "execution_count": 36,
   "metadata": {},
   "outputs": [],
   "source": [
    "example = X_test[0:20][:]\n",
    "y_pred = model.predict(example)\n",
    "y_true = y_test[0:20]"
   ]
  },
  {
   "cell_type": "code",
   "execution_count": 38,
   "metadata": {},
   "outputs": [
    {
     "name": "stdout",
     "output_type": "stream",
     "text": [
      "True: [ 1  2 12]\n",
      "Pred: [9 2 7]\n",
      "Probabilities: [0.6831202  0.17580204 0.03836461]\n",
      "Uncertainty: 10.271316766738892 % \n"
     ]
    }
   ],
   "source": [
    "i = 10\n",
    "trueVals = np.where(y_true[i] == 1)[0]\n",
    "topN = np.size(np.where(y_true[i] == 1))\n",
    "\n",
    "predictions = (-y_pred[i]).argsort()[0:topN]\n",
    "topProb = np.abs(np.sort(-y_pred[i])[0:topN])\n",
    "Uncertainty = (1 - np.sum(topProb)) * 100\n",
    "\n",
    "print(\"True: {}\".format(trueVals))\n",
    "print(\"Pred: {}\".format(predictions))\n",
    "print(\"Probabilities: {}\".format(topProb))\n",
    "print(\"Uncertainty: {} % \".format(Uncertainty))"
   ]
  },
  {
   "cell_type": "code",
   "execution_count": 57,
   "metadata": {},
   "outputs": [
    {
     "name": "stdout",
     "output_type": "stream",
     "text": [
      "[[4.17918200e-03 3.46101820e-02 7.36351252e-01 3.32589913e-03\n",
      "  2.52956408e-03 5.16425632e-03 1.21750869e-03 1.25192478e-02\n",
      "  2.28362251e-03 8.74203106e-04 1.17678419e-01 1.12987375e-02\n",
      "  6.79679587e-02]\n",
      " [1.89263932e-03 2.12365668e-02 7.86002143e-04 9.88672909e-05\n",
      "  5.29983127e-03 1.18867140e-02 3.26954946e-03 4.13225032e-04\n",
      "  2.82672467e-03 2.11244187e-04 9.48920608e-01 5.03680552e-04\n",
      "  2.65441253e-03]]\n",
      "2\n",
      "['' 'CQ' 'FD' 'FQ' 'GG' 'IR' 'JK' 'NF' 'O' 'OQ' 'PA' 'PF' 'RQ']\n"
     ]
    }
   ],
   "source": [
    "test = [\"Hello FCC\", \"FUCK OFF!\"]\n",
    "test_embeddings = np.array(embed.call(test))\n",
    "out = model.predict(test_embeddings)\n",
    "print(out)\n",
    "print(np.argmax(out[0]))\n",
    "print(one_hot.classes_)"
   ]
  },
  {
   "cell_type": "code",
   "execution_count": 62,
   "metadata": {},
   "outputs": [
    {
     "data": {
      "text/plain": [
       "array([0, 0, 0, 0, 0, 0, 0, 0, 0, 1, 0, 0, 0])"
      ]
     },
     "execution_count": 62,
     "metadata": {},
     "output_type": "execute_result"
    }
   ],
   "source": [
    "multi_hot_labels[0]"
   ]
  },
  {
   "cell_type": "code",
   "execution_count": 65,
   "metadata": {},
   "outputs": [
    {
     "data": {
      "text/plain": [
       "array(['', 'CQ', 'FD', 'FQ', 'GG', 'IR', 'JK', 'NF', 'O', 'OQ', 'PA',\n",
       "       'PF', 'RQ'], dtype=object)"
      ]
     },
     "execution_count": 65,
     "metadata": {},
     "output_type": "execute_result"
    }
   ],
   "source": [
    "one_hot.classes_"
   ]
  },
  {
   "cell_type": "code",
   "execution_count": null,
   "metadata": {},
   "outputs": [],
   "source": []
  }
 ],
 "metadata": {
  "kernelspec": {
   "display_name": "Python 3",
   "language": "python",
   "name": "python3"
  },
  "language_info": {
   "codemirror_mode": {
    "name": "ipython",
    "version": 3
   },
   "file_extension": ".py",
   "mimetype": "text/x-python",
   "name": "python",
   "nbconvert_exporter": "python",
   "pygments_lexer": "ipython3",
   "version": "3.7.6"
  },
  "toc": {
   "base_numbering": 1,
   "nav_menu": {},
   "number_sections": true,
   "sideBar": true,
   "skip_h1_title": false,
   "title_cell": "Table of Contents",
   "title_sidebar": "Contents",
   "toc_cell": false,
   "toc_position": {},
   "toc_section_display": true,
   "toc_window_display": false
  }
 },
 "nbformat": 4,
 "nbformat_minor": 2
}
