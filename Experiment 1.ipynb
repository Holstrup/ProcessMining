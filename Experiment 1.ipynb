{
 "cells": [
  {
   "cell_type": "code",
   "execution_count": 376,
   "metadata": {},
   "outputs": [],
   "source": [
    "import pandas as pd\n",
    "import csv\n",
    "import numpy as np\n",
    "\n",
    "from sklearn.preprocessing import MultiLabelBinarizer\n",
    "from sklearn.multioutput import MultiOutputClassifier\n",
    "from sklearn.feature_extraction.text import TfidfTransformer, TfidfVectorizer, CountVectorizer\n",
    "from sklearn.ensemble import AdaBoostClassifier, RandomForestClassifier\n",
    "from sklearn.tree import DecisionTreeClassifier\n",
    "# from sklearn.metrics.pairwise import cosine_similarity\n",
    "\n",
    "from Text_Preprocessing import preprocess_text"
   ]
  },
  {
   "cell_type": "markdown",
   "metadata": {
    "heading_collapsed": true
   },
   "source": [
    "## Train\n",
    "\n",
    "We start with training a classification model by using the train_features.tsv file"
   ]
  },
  {
   "cell_type": "code",
   "execution_count": 331,
   "metadata": {
    "hidden": true
   },
   "outputs": [],
   "source": [
    "training_features_path = \"Data/MSDialog/Intent/train_features.tsv\""
   ]
  },
  {
   "cell_type": "code",
   "execution_count": 332,
   "metadata": {
    "hidden": true
   },
   "outputs": [],
   "source": [
    "df = pd.read_csv(training_features_path,sep='\\t')\n",
    "x_train = np.zeros(24)\n",
    "y_train = []\n",
    "for i, row in enumerate(df.iterrows()):\n",
    "    label = tuple(row[0].split(\"_\"))\n",
    "    features = np.array((row[1][0]).split(\" \"), dtype='float64')\n",
    "    \n",
    "    x_train = np.vstack((x_train, features))\n",
    "    y_train.append(label)\n",
    "    \n",
    "    \n",
    "x_train = x_train[1:][:]"
   ]
  },
  {
   "cell_type": "markdown",
   "metadata": {
    "hidden": true
   },
   "source": [
    "Here we use an Sklearn method, that can encode our classes as Multihot vectors, which is necessary to handle the multiple labels each message can have"
   ]
  },
  {
   "cell_type": "code",
   "execution_count": 334,
   "metadata": {
    "hidden": true
   },
   "outputs": [
    {
     "name": "stdout",
     "output_type": "stream",
     "text": [
      "['CQ', 'FD', 'FQ', 'GG', 'IR', 'JK', 'NF', 'O', 'OQ', 'PA', 'PF', 'RQ']\n"
     ]
    }
   ],
   "source": [
    "mlb = MultiLabelBinarizer()\n",
    "y_train = mlb.fit_transform(y_train)\n",
    "print(list(mlb.classes_))"
   ]
  },
  {
   "cell_type": "markdown",
   "metadata": {
    "hidden": true
   },
   "source": [
    "Here one should be able to replace RandomForestClassifier with another type of classifier. One can also adjust the parameter n_estimators"
   ]
  },
  {
   "cell_type": "code",
   "execution_count": 221,
   "metadata": {
    "hidden": true
   },
   "outputs": [
    {
     "data": {
      "text/plain": [
       "MultiOutputClassifier(estimator=RandomForestClassifier(bootstrap=True, class_weight=None, criterion='gini',\n",
       "            max_depth=None, max_features='auto', max_leaf_nodes=None,\n",
       "            min_impurity_decrease=0.0, min_impurity_split=None,\n",
       "            min_samples_leaf=1, min_samples_split=2,\n",
       "            min_weight_fraction_leaf=0.0, n_estimators=100, n_jobs=None,\n",
       "            oob_score=False, random_state=1, verbose=0, warm_start=False),\n",
       "           n_jobs=-1)"
      ]
     },
     "execution_count": 221,
     "metadata": {},
     "output_type": "execute_result"
    }
   ],
   "source": [
    "forest = RandomForestClassifier(n_estimators=100, random_state=1)\n",
    "RandomForest = MultiOutputClassifier(forest, n_jobs=-1)\n",
    "RandomForest.fit(x_train, y_train)"
   ]
  },
  {
   "cell_type": "markdown",
   "metadata": {
    "heading_collapsed": true
   },
   "source": [
    "## Test\n",
    "\n",
    "In this step, we evaluate our trained classifier with IoU"
   ]
  },
  {
   "cell_type": "code",
   "execution_count": 344,
   "metadata": {
    "hidden": true
   },
   "outputs": [],
   "source": [
    "test_features_path = \"Data/MSDialog/Intent/test_features.tsv\""
   ]
  },
  {
   "cell_type": "code",
   "execution_count": 345,
   "metadata": {
    "hidden": true
   },
   "outputs": [],
   "source": [
    "df = pd.read_csv(test_features_path,sep='\\t')\n",
    "x_test = np.zeros(24)\n",
    "y_test = []\n",
    "for i, row in enumerate(df.iterrows()):\n",
    "    label = tuple(row[0].split(\"_\"))\n",
    "    features = np.array((row[1][0]).split(\" \"), dtype='float64')\n",
    "    \n",
    "    x_test = np.vstack((x_test, features))\n",
    "    y_test.append(label)\n",
    "    \n",
    "    \n",
    "x_test = x_test[1:][:]"
   ]
  },
  {
   "cell_type": "code",
   "execution_count": 346,
   "metadata": {
    "hidden": true
   },
   "outputs": [
    {
     "name": "stdout",
     "output_type": "stream",
     "text": [
      "['CQ', 'FD', 'FQ', 'GG', 'IR', 'JK', 'NF', 'O', 'OQ', 'PA', 'PF', 'RQ']\n"
     ]
    }
   ],
   "source": [
    "y_test = mlb.transform(y_test)\n",
    "print(list(mlb.classes_))"
   ]
  },
  {
   "cell_type": "code",
   "execution_count": 347,
   "metadata": {
    "hidden": true
   },
   "outputs": [],
   "source": [
    "x_test_pred = RandomForest.predict(x_test)"
   ]
  },
  {
   "cell_type": "code",
   "execution_count": 348,
   "metadata": {
    "hidden": true
   },
   "outputs": [],
   "source": [
    "N, D = np.shape(y_test)\n",
    "IoU = []\n",
    "for i in range(N):\n",
    "    true = y_test[i][:]\n",
    "    pred = x_test_pred[i][:]\n",
    "    union = np.sum(np.logical_or(true, pred))\n",
    "    intersection = np.sum(np.logical_and(true, pred))\n",
    "    IoU.append(np.sum(intersection) / np.sum(union))"
   ]
  },
  {
   "cell_type": "code",
   "execution_count": null,
   "metadata": {
    "hidden": true
   },
   "outputs": [],
   "source": [
    "sum(IoU) / len(IoU)"
   ]
  },
  {
   "cell_type": "markdown",
   "metadata": {
    "hidden": true
   },
   "source": [
    "**Result**  \n",
    "Roughly 60% accuracy for Random Forest, which is also what the authors of the MSDialog papers presented. "
   ]
  },
  {
   "cell_type": "markdown",
   "metadata": {},
   "source": [
    "## Experiment - Disentanglement"
   ]
  },
  {
   "cell_type": "code",
   "execution_count": null,
   "metadata": {},
   "outputs": [],
   "source": [
    "synthetic_dataset_path = \"Data/MSDialog/Synthetic/Synthetic.tsv\""
   ]
  },
  {
   "cell_type": "markdown",
   "metadata": {},
   "source": [
    "We start with printing the stream of messages as it is. The Conversations are about:\n",
    "* Emojis in Skype\n",
    "* Transitions in PowerPoint\n",
    "* Recovering lost letter in Email\n",
    "* Changing neighborhood in Bing (whatever that means)"
   ]
  },
  {
   "cell_type": "code",
   "execution_count": 352,
   "metadata": {},
   "outputs": [
    {
     "name": "stdout",
     "output_type": "stream",
     "text": [
      "Richard: how do i increase the size of an emoji in the conversation \\? \n",
      "\n",
      "Steven: hello richard , welcome to skype community forum it is my regret to inform you that there s no way for us to increase the size of emoji on skype please do not hesitate to reply to this thread if you need further help \n",
      "\n",
      "Richard: thank you it would seem that the emojis are bigger as long as you send them one by one \n",
      "\n",
      "Tyler: i am missing the morph transition from my 2016 powerpoint \n",
      "\n",
      "Benjamin: i was writing a letter in e mail and did not save it when i transfered to another application is it still available and how do i find it \\? \n",
      "\n",
      "Suzanne: hi tyler , the morph transition feature in powerpoint is only available if you have an office 365 subscription if you are an office 365 subscriber , make sure you have the latest version of office for more details use the morph transition in powerpoint regards , yogasuzanne \n",
      "\n",
      "Veronica: if you did n't save it while typing , it is probably gone for good windows 7 did not come with any email program , so while my reply is probably correct , knowing what you are using for email might make a difference \n",
      "\n",
      "Suzanne: hi tyler , have my replies answered your question \\? regards , yogasuzanne \n",
      "\n",
      "John: how do i get my neighborhood changed in bing \\? \n",
      "\n",
      "Benjamin: thank you veronica i appreciate your response \n",
      "\n",
      "Samantha: hi , bing maps depends on your current geographical location if you are using a mobile device , it is highly recommended to have a fast and stable internet connection to sync your physical location especially if you 're constantly moving to make sure that we can provide the appropriate resolution to your concern , we d like to ask you a few questions we re looking forward to your response \n",
      "\n",
      "Joe: go to the bing maps website , search for your neighbourhood and then use the feedback or report a problem button to report the issue this will then get routed to the correct team in bing maps and investigated and if valid , fixed in a future data update \n",
      "\n"
     ]
    }
   ],
   "source": [
    "df = pd.read_csv(synthetic_dataset_path,sep='\\t')\n",
    "labels = {}\n",
    "utterance = {}\n",
    "users = {}\n",
    "for i, row in enumerate(df.iterrows()):\n",
    "    users[i] = row[0]\n",
    "    labels[i] = (row[1][0]).split(\"_\")\n",
    "    utterance[i] = (row[1][1]).split(\"__eou__\")[0]\n",
    "    print(users[i] + \": \" + utterance[i] + \"\\n\")"
   ]
  },
  {
   "cell_type": "code",
   "execution_count": 353,
   "metadata": {},
   "outputs": [],
   "source": [
    "filtered = []\n",
    "for i, message in enumerate(list(utterance.values())):\n",
    "    filtered.append(\" \".join(preprocess_text(message)))\n",
    "    "
   ]
  },
  {
   "cell_type": "markdown",
   "metadata": {},
   "source": [
    "First we take a little peak into the IDF, and how the top and bottom words score. "
   ]
  },
  {
   "cell_type": "code",
   "execution_count": 371,
   "metadata": {},
   "outputs": [
    {
     "data": {
      "text/html": [
       "<div>\n",
       "<style scoped>\n",
       "    .dataframe tbody tr th:only-of-type {\n",
       "        vertical-align: middle;\n",
       "    }\n",
       "\n",
       "    .dataframe tbody tr th {\n",
       "        vertical-align: top;\n",
       "    }\n",
       "\n",
       "    .dataframe thead th {\n",
       "        text-align: right;\n",
       "    }\n",
       "</style>\n",
       "<table border=\"1\" class=\"dataframe\">\n",
       "  <thead>\n",
       "    <tr style=\"text-align: right;\">\n",
       "      <th></th>\n",
       "      <th>idf_weights</th>\n",
       "    </tr>\n",
       "  </thead>\n",
       "  <tbody>\n",
       "    <tr>\n",
       "      <th>make</th>\n",
       "      <td>2.178655</td>\n",
       "    </tr>\n",
       "    <tr>\n",
       "      <th>bing</th>\n",
       "      <td>2.178655</td>\n",
       "    </tr>\n",
       "    <tr>\n",
       "      <th>yogasuzanne</th>\n",
       "      <td>2.466337</td>\n",
       "    </tr>\n",
       "    <tr>\n",
       "      <th>save</th>\n",
       "      <td>2.466337</td>\n",
       "    </tr>\n",
       "    <tr>\n",
       "      <th>reply</th>\n",
       "      <td>2.466337</td>\n",
       "    </tr>\n",
       "    <tr>\n",
       "      <th>...</th>\n",
       "      <td>...</td>\n",
       "    </tr>\n",
       "    <tr>\n",
       "      <th>forward</th>\n",
       "      <td>2.871802</td>\n",
       "    </tr>\n",
       "    <tr>\n",
       "      <th>forum</th>\n",
       "      <td>2.871802</td>\n",
       "    </tr>\n",
       "    <tr>\n",
       "      <th>fixed</th>\n",
       "      <td>2.871802</td>\n",
       "    </tr>\n",
       "    <tr>\n",
       "      <th>feedback</th>\n",
       "      <td>2.871802</td>\n",
       "    </tr>\n",
       "    <tr>\n",
       "      <th>might</th>\n",
       "      <td>2.871802</td>\n",
       "    </tr>\n",
       "  </tbody>\n",
       "</table>\n",
       "<p>124 rows × 1 columns</p>\n",
       "</div>"
      ],
      "text/plain": [
       "             idf_weights\n",
       "make            2.178655\n",
       "bing            2.178655\n",
       "yogasuzanne     2.466337\n",
       "save            2.466337\n",
       "reply           2.466337\n",
       "...                  ...\n",
       "forward         2.871802\n",
       "forum           2.871802\n",
       "fixed           2.871802\n",
       "feedback        2.871802\n",
       "might           2.871802\n",
       "\n",
       "[124 rows x 1 columns]"
      ]
     },
     "execution_count": 371,
     "metadata": {},
     "output_type": "execute_result"
    }
   ],
   "source": [
    "#instantiate CountVectorizer()\n",
    "cv=CountVectorizer()\n",
    "\n",
    "# this steps generates word counts for the words in your docs\n",
    "word_count_vector=cv.fit_transform(filtered)\n",
    "\n",
    "\n",
    "tfidf_transformer = TfidfTransformer(smooth_idf=True,use_idf=True)\n",
    "tfidf_transformer.fit(word_count_vector)\n",
    "\n",
    "# print idf values\n",
    "df_idf = pd.DataFrame(tfidf_transformer.idf_, index=cv.get_feature_names(),columns=[\"idf_weights\"])\n",
    " \n",
    "# sort ascending\n",
    "df_idf.sort_values(by=['idf_weights'])"
   ]
  },
  {
   "cell_type": "code",
   "execution_count": 372,
   "metadata": {},
   "outputs": [],
   "source": [
    "# settings that you use for count vectorizer will go here\n",
    "tfidf_vectorizer=TfidfVectorizer(use_idf=True)\n",
    "    \n",
    "# just send in all your docs here\n",
    "tfidf_vectorizer_vectors=tfidf_vectorizer.fit_transform(filtered)\n"
   ]
  },
  {
   "cell_type": "code",
   "execution_count": 373,
   "metadata": {},
   "outputs": [],
   "source": [
    "def cosine_sim(vec1, vec2):\n",
    "    return np.dot(vec1.T, vec2) / (np.linalg.norm(vec1) * np.linalg.norm(vec2))"
   ]
  },
  {
   "cell_type": "code",
   "execution_count": 374,
   "metadata": {},
   "outputs": [],
   "source": [
    "conversations = {}\n",
    "max_similarity = {\"id\": None, \"value\": 0}\n",
    "for i, message in enumerate(utterance.keys()):\n",
    "    add_mention = False\n",
    "    if len(conversations.keys()) == 0:\n",
    "        conversations[i] = {i: utterance[i]}\n",
    "    else:\n",
    "        for c_id in conversations.keys():\n",
    "            user_ids = list(conversations[c_id].keys())\n",
    "            user_names = [users[i] for i in user_ids \n",
    "                          if users[i].lower() in utterance[message].lower()]\n",
    "            if len(user_names) > 0:\n",
    "                add_mention = True\n",
    "                break\n",
    "            \n",
    "            max_similarity = {\"id\": None, \"value\": 0}\n",
    "            for m_id in conversations[c_id].keys():\n",
    "                current_message = tfidf_vectorizer_vectors[i].T.todense()\n",
    "                old_message = tfidf_vectorizer_vectors[m_id].T.todense()\n",
    "                cos_sim = cosine_sim(current_message, old_message)          \n",
    "                if cos_sim > max_similarity[\"value\"]:\n",
    "                    max_similarity[\"value\"] = cos_sim\n",
    "                    max_similarity[\"id\"] = c_id\n",
    "        if add_mention: \n",
    "            conversations[c_id][i] = utterance[i]\n",
    "        elif max_similarity[\"id\"] != None and max_similarity[\"value\"] > 0.05:\n",
    "            conversations[max_similarity[\"id\"]][i] = utterance[i]\n",
    "        else:\n",
    "            conversations[i] = {i: utterance[i]}"
   ]
  },
  {
   "cell_type": "markdown",
   "metadata": {},
   "source": [
    "Now we are ready to print the disentangled conversations. We note, that there is one mistake (2). The highest TF-IDF scoring word in this message is 'one'. This word should probably be in the set of stopwords, but is not currently. "
   ]
  },
  {
   "cell_type": "code",
   "execution_count": 361,
   "metadata": {},
   "outputs": [
    {
     "name": "stdout",
     "output_type": "stream",
     "text": [
      "0 - how do i increase the size of an emoji in the conversation \\? \n",
      "1 - hello richard , welcome to skype community forum it is my regret to inform you that there s no way for us to increase the size of emoji on skype please do not hesitate to reply to this thread if you need further help \n",
      "\n",
      " ---- \n",
      "\n",
      "2 - thank you it would seem that the emojis are bigger as long as you send them one by one \n",
      "\n",
      " ---- \n",
      "\n",
      "3 - i am missing the morph transition from my 2016 powerpoint \n",
      "5 - hi tyler , the morph transition feature in powerpoint is only available if you have an office 365 subscription if you are an office 365 subscriber , make sure you have the latest version of office for more details use the morph transition in powerpoint regards , yogasuzanne \n",
      "7 - hi tyler , have my replies answered your question \\? regards , yogasuzanne \n",
      "\n",
      " ---- \n",
      "\n",
      "4 - i was writing a letter in e mail and did not save it when i transfered to another application is it still available and how do i find it \\? \n",
      "6 - if you did n't save it while typing , it is probably gone for good windows 7 did not come with any email program , so while my reply is probably correct , knowing what you are using for email might make a difference \n",
      "9 - thank you veronica i appreciate your response \n",
      "\n",
      " ---- \n",
      "\n",
      "8 - how do i get my neighborhood changed in bing \\? \n",
      "10 - hi , bing maps depends on your current geographical location if you are using a mobile device , it is highly recommended to have a fast and stable internet connection to sync your physical location especially if you 're constantly moving to make sure that we can provide the appropriate resolution to your concern , we d like to ask you a few questions we re looking forward to your response \n",
      "11 - go to the bing maps website , search for your neighbourhood and then use the feedback or report a problem button to report the issue this will then get routed to the correct team in bing maps and investigated and if valid , fixed in a future data update \n",
      "\n",
      " ---- \n",
      "\n"
     ]
    }
   ],
   "source": [
    "for c_id in conversations.keys():\n",
    "    for m_id in conversations[c_id].keys():\n",
    "        print(str(m_id) + \" - \" + conversations[c_id][m_id])\n",
    "    print(\"\\n ---- \\n\")"
   ]
  },
  {
   "cell_type": "markdown",
   "metadata": {
    "heading_collapsed": true
   },
   "source": [
    "## Experiment - Classification"
   ]
  },
  {
   "cell_type": "code",
   "execution_count": 362,
   "metadata": {
    "hidden": true
   },
   "outputs": [],
   "source": [
    "synthetic_features_path = \"Data/MSDialog/Synthetic/Synthetic_Features.tsv\""
   ]
  },
  {
   "cell_type": "code",
   "execution_count": 363,
   "metadata": {
    "hidden": true
   },
   "outputs": [],
   "source": [
    "df = pd.read_csv(synthetic_features_path,sep='\\t')\n",
    "x_synthetic = np.zeros(24)\n",
    "y_synthetic = []\n",
    "for i, row in enumerate(df.iterrows()):\n",
    "    label = tuple(row[0].split(\"_\"))\n",
    "    features = np.array((row[1][0]).split(\" \"), dtype='float64')\n",
    "    \n",
    "    x_synthetic = np.vstack((x_synthetic, features))\n",
    "    y_synthetic.append(label)\n",
    "    \n",
    "    \n",
    "x_synthetic = x_synthetic[1:][:]"
   ]
  },
  {
   "cell_type": "code",
   "execution_count": 364,
   "metadata": {
    "hidden": true
   },
   "outputs": [],
   "source": [
    "x_synthetic_pred = RandomForest.predict(x_synthetic)"
   ]
  },
  {
   "cell_type": "code",
   "execution_count": 365,
   "metadata": {
    "hidden": true,
    "scrolled": true
   },
   "outputs": [
    {
     "name": "stdout",
     "output_type": "stream",
     "text": [
      "0 - OQ - how do i increase the size of an emoji in the conversation \\? \n",
      "1 - PA - hello richard , welcome to skype community forum it is my regret to inform you that there s no way for us to increase the size of emoji on skype please do not hesitate to reply to this thread if you need further help \n",
      "\n",
      " ---- \n",
      "\n",
      "2 - FD - thank you it would seem that the emojis are bigger as long as you send them one by one \n",
      "\n",
      " ---- \n",
      "\n",
      "3 - OQ - i am missing the morph transition from my 2016 powerpoint \n",
      "5 - PA - hi tyler , the morph transition feature in powerpoint is only available if you have an office 365 subscription if you are an office 365 subscriber , make sure you have the latest version of office for more details use the morph transition in powerpoint regards , yogasuzanne \n",
      "7 - IR - hi tyler , have my replies answered your question \\? regards , yogasuzanne \n",
      "\n",
      " ---- \n",
      "\n",
      "4 - OQ - i was writing a letter in e mail and did not save it when i transfered to another application is it still available and how do i find it \\? \n",
      "6 - PA - if you did n't save it while typing , it is probably gone for good windows 7 did not come with any email program , so while my reply is probably correct , knowing what you are using for email might make a difference \n",
      "9 - PF - thank you veronica i appreciate your response \n",
      "\n",
      " ---- \n",
      "\n",
      "8 - OQ - how do i get my neighborhood changed in bing \\? \n",
      "10 - PA - hi , bing maps depends on your current geographical location if you are using a mobile device , it is highly recommended to have a fast and stable internet connection to sync your physical location especially if you 're constantly moving to make sure that we can provide the appropriate resolution to your concern , we d like to ask you a few questions we re looking forward to your response \n",
      "11 - PA - go to the bing maps website , search for your neighbourhood and then use the feedback or report a problem button to report the issue this will then get routed to the correct team in bing maps and investigated and if valid , fixed in a future data update \n",
      "\n",
      " ---- \n",
      "\n"
     ]
    }
   ],
   "source": [
    "for c_id in conversations.keys():\n",
    "    for m_id in conversations[c_id].keys():\n",
    "        class_pred = np.where(x_synthetic_pred[m_id] > 0)[0]\n",
    "        class_pred = list(mlb.classes_)[class_pred[0]]\n",
    "        print(str(m_id) + \" - \" + str(class_pred) + \" - \" + conversations[c_id][m_id])\n",
    "    print(\"\\n ---- \\n\")"
   ]
  },
  {
   "cell_type": "code",
   "execution_count": 366,
   "metadata": {
    "hidden": true
   },
   "outputs": [],
   "source": [
    "y_synthetic = mlb.transform(y_synthetic)"
   ]
  },
  {
   "cell_type": "code",
   "execution_count": 367,
   "metadata": {
    "hidden": true
   },
   "outputs": [],
   "source": [
    "N, D = np.shape(x_synthetic_pred)\n",
    "IoU = []\n",
    "for i in range(N):\n",
    "    true = y_synthetic[i][:]\n",
    "    pred = x_synthetic_pred[i][:]\n",
    "    union = np.sum(np.logical_or(true, pred))\n",
    "    intersection = np.sum(np.logical_and(true, pred))\n",
    "    IoU.append(np.sum(intersection) / np.sum(union))"
   ]
  },
  {
   "cell_type": "code",
   "execution_count": 368,
   "metadata": {
    "hidden": true
   },
   "outputs": [
    {
     "data": {
      "text/plain": [
       "0.8333333333333334"
      ]
     },
     "execution_count": 368,
     "metadata": {},
     "output_type": "execute_result"
    }
   ],
   "source": [
    "sum(IoU) / len(IoU)"
   ]
  },
  {
   "cell_type": "markdown",
   "metadata": {
    "hidden": true
   },
   "source": [
    "Good accuracy, but also an easy setting. Note, that our predictor only predicts one class. Weird... "
   ]
  },
  {
   "cell_type": "markdown",
   "metadata": {
    "heading_collapsed": true
   },
   "source": [
    "## Experiment - Topics\n",
    "Now we mine topics. This can be done multiple ways. Here we use the most significant word from each message as part of the overall topic for the conversation. "
   ]
  },
  {
   "cell_type": "code",
   "execution_count": 370,
   "metadata": {
    "hidden": true
   },
   "outputs": [
    {
     "name": "stdout",
     "output_type": "stream",
     "text": [
      " - how do i increase the size of an emoji in the conversation \\? \n",
      " - hello richard , welcome to skype community forum it is my regret to inform you that there s no way for us to increase the size of emoji on skype please do not hesitate to reply to this thread if you need further help \n",
      "['conversation', 'skype']\n",
      "--\n",
      "\n",
      " - thank you it would seem that the emojis are bigger as long as you send them one by one \n",
      "['one']\n",
      "--\n",
      "\n",
      " - i am missing the morph transition from my 2016 powerpoint \n",
      " - hi tyler , the morph transition feature in powerpoint is only available if you have an office 365 subscription if you are an office 365 subscriber , make sure you have the latest version of office for more details use the morph transition in powerpoint regards , yogasuzanne \n",
      " - hi tyler , have my replies answered your question \\? regards , yogasuzanne \n",
      "['2016', 'office', 'answered']\n",
      "--\n",
      "\n",
      " - i was writing a letter in e mail and did not save it when i transfered to another application is it still available and how do i find it \\? \n",
      " - if you did n't save it while typing , it is probably gone for good windows 7 did not come with any email program , so while my reply is probably correct , knowing what you are using for email might make a difference \n",
      " - thank you veronica i appreciate your response \n",
      "['another', 'email', 'appreciate']\n",
      "--\n",
      "\n",
      " - how do i get my neighborhood changed in bing \\? \n",
      " - hi , bing maps depends on your current geographical location if you are using a mobile device , it is highly recommended to have a fast and stable internet connection to sync your physical location especially if you 're constantly moving to make sure that we can provide the appropriate resolution to your concern , we d like to ask you a few questions we re looking forward to your response \n",
      " - go to the bing maps website , search for your neighbourhood and then use the feedback or report a problem button to report the issue this will then get routed to the correct team in bing maps and investigated and if valid , fixed in a future data update \n",
      "['changed', 'location', 'report']\n",
      "--\n",
      "\n"
     ]
    }
   ],
   "source": [
    "for c_id in conversations.keys():\n",
    "    topics = []\n",
    "    for m_id in conversations[c_id].keys():\n",
    "        max_elem = np.argmax(tfidf_vectorizer_vectors[m_id].todense())\n",
    "        topic = list(tfidf_vectorizer.vocabulary_.keys())[list(tfidf_vectorizer.vocabulary_.values()).index(max_elem)] # Prints george\n",
    "        topics.append(topic)\n",
    "        print(\" - \" + conversations[c_id][m_id])\n",
    "    print(topics)\n",
    "    print(\"--\\n\")"
   ]
  },
  {
   "cell_type": "code",
   "execution_count": null,
   "metadata": {
    "hidden": true
   },
   "outputs": [],
   "source": []
  }
 ],
 "metadata": {
  "kernelspec": {
   "display_name": "Python 3",
   "language": "python",
   "name": "python3"
  },
  "language_info": {
   "codemirror_mode": {
    "name": "ipython",
    "version": 3
   },
   "file_extension": ".py",
   "mimetype": "text/x-python",
   "name": "python",
   "nbconvert_exporter": "python",
   "pygments_lexer": "ipython3",
   "version": "3.7.6"
  },
  "toc": {
   "base_numbering": 1,
   "nav_menu": {},
   "number_sections": true,
   "sideBar": true,
   "skip_h1_title": false,
   "title_cell": "Table of Contents",
   "title_sidebar": "Contents",
   "toc_cell": false,
   "toc_position": {},
   "toc_section_display": true,
   "toc_window_display": false
  }
 },
 "nbformat": 4,
 "nbformat_minor": 2
}
