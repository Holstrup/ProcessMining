{
 "cells": [
  {
   "cell_type": "code",
   "execution_count": 30,
   "metadata": {},
   "outputs": [],
   "source": [
    "from pm4py.objects.log.exporter.xes import factory as xes_exporter\n",
    "from pm4py.objects.log.util.log import log as pmlog\n",
    "import json \n",
    "from datetime import datetime\n",
    "from Text_Preprocessing import preprocess_text\n",
    "from sklearn.feature_extraction.text import TfidfTransformer, TfidfVectorizer, CountVectorizer\n",
    "import numpy as np"
   ]
  },
  {
   "cell_type": "code",
   "execution_count": 31,
   "metadata": {},
   "outputs": [],
   "source": [
    "msdialog_filepath = \"data/MSDialog/Intent/MSDialog-Intent.json\"\n",
    "with open(msdialog_filepath) as f:\n",
    "    data = json.load(f)"
   ]
  },
  {
   "cell_type": "markdown",
   "metadata": {},
   "source": [
    "### 0: TF-IDF Mining"
   ]
  },
  {
   "cell_type": "code",
   "execution_count": 32,
   "metadata": {},
   "outputs": [],
   "source": [
    "filtered_messages = []\n",
    "for thread in data.keys():\n",
    "    utterances = data[thread][\"utterances\"]\n",
    "    for utterance in utterances:\n",
    "        message = \" \".join(preprocess_text(utterance[\"utterance\"]))\n",
    "        filtered_messages.append(message)\n",
    "        \n",
    "# settings that you use for count vectorizer will go here\n",
    "tfidf_vectorizer=TfidfVectorizer(use_idf=True)\n",
    "    \n",
    "# just send in all your docs here\n",
    "tfidf_vectorizer_vectors=tfidf_vectorizer.fit_transform(filtered_messages)\n"
   ]
  },
  {
   "cell_type": "markdown",
   "metadata": {},
   "source": [
    "### Helper Functions\n",
    "\n",
    "**Tags Rule Set**  \n",
    "Used to filter in the dataset, to make the output .xes file more comprehensible. \n",
    "Filters:\n",
    "* Remove Greetings if there are other classifications\n",
    "\n",
    "**Tags to Set**  \n",
    "Takes a string of tags and converts it to a list of tags. Also filters in tags with **Tags Rule Set**.  \n",
    "Example.  \"IR OQ NF\" -> [\"IR\", \"OQ\", \"NF\"]\n",
    "\n",
    "**Utterance to event**  \n",
    "Creates an PM4PY event object from each utterance. "
   ]
  },
  {
   "cell_type": "code",
   "execution_count": 33,
   "metadata": {},
   "outputs": [],
   "source": [
    "def get_max_word(item):\n",
    "    max_elem = np.argmax(tfidf_vectorizer_vectors[item])    \n",
    "    return list(tfidf_vectorizer.vocabulary_.keys())[list(tfidf_vectorizer.vocabulary_.values()).index(max_elem)] \n",
    "\n",
    "def tags_rule_set(tags_list):\n",
    "    if len(tags_list) > 1:\n",
    "        \n",
    "        # Remove Greetings\n",
    "        if \"GG\" in tags_list:\n",
    "            tags_list.remove(\"GG\")\n",
    "            \n",
    "            \n",
    "    return tags_list\n",
    "\n",
    "def tags_to_set(tags_string):\n",
    "    tags_list = list(set(tags_string.split(\" \")))\n",
    "    filtered_tags_list = tags_rule_set(tags_list)\n",
    "    return filtered_tags_list\n",
    "\n",
    "def date_to_datetime(date_string): \n",
    "    return datetime.strptime(date_string, '%Y-%m-%dT%H:%M:%S')\n",
    "\n",
    "def utterance_to_event(utterance, tf_idf_index):\n",
    "    event = {}\n",
    "    event[\"org:resource\"] = utterance[\"user_id\"]\n",
    "    event['concept:name'] = tags_to_set(utterance[\"tags\"])\n",
    "    event[\"time:timestamp\"] = date_to_datetime(utterance[\"utterance_time\"])\n",
    "    event[\"topics\"] = get_max_word(tf_idf_index)\n",
    "    return pmlog.Event(event)"
   ]
  },
  {
   "cell_type": "markdown",
   "metadata": {},
   "source": [
    "### Log Extract"
   ]
  },
  {
   "cell_type": "code",
   "execution_count": 34,
   "metadata": {},
   "outputs": [],
   "source": [
    "log = pmlog.EventLog()                        # Log we want to return\n",
    "tf_idf_index = 0\n",
    "for thread in data.keys():\n",
    "    utterances = data[thread][\"utterances\"]\n",
    "    trace = pmlog.Trace()                     # Trace for each conversation\n",
    "    for utterance in utterances:\n",
    "        event = utterance_to_event(utterance, tf_idf_index) # Utterance Event\n",
    "        trace.append(event)\n",
    "        tf_idf_index += 1\n",
    "    log.append(trace)\n",
    "xes_exporter.export_log(log, \"MSDialogLog.xes\")"
   ]
  },
  {
   "cell_type": "code",
   "execution_count": null,
   "metadata": {},
   "outputs": [],
   "source": []
  }
 ],
 "metadata": {
  "kernelspec": {
   "display_name": "Python 3",
   "language": "python",
   "name": "python3"
  },
  "language_info": {
   "codemirror_mode": {
    "name": "ipython",
    "version": 3
   },
   "file_extension": ".py",
   "mimetype": "text/x-python",
   "name": "python",
   "nbconvert_exporter": "python",
   "pygments_lexer": "ipython3",
   "version": "3.7.6"
  },
  "toc": {
   "base_numbering": 1,
   "nav_menu": {},
   "number_sections": true,
   "sideBar": true,
   "skip_h1_title": false,
   "title_cell": "Table of Contents",
   "title_sidebar": "Contents",
   "toc_cell": false,
   "toc_position": {},
   "toc_section_display": true,
   "toc_window_display": false
  }
 },
 "nbformat": 4,
 "nbformat_minor": 2
}
